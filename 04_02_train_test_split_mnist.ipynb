{
 "cells": [
  {
   "cell_type": "code",
   "execution_count": null,
   "metadata": {
    "ExecuteTime": {
     "end_time": "2017-06-22T08:57:13.105251Z",
     "start_time": "2017-06-22T08:57:11.963077Z"
    }
   },
   "outputs": [],
   "source": [
    "import numpy as np\n",
    "\n",
    "from sklearn.datasets import load_breast_cancer\n",
    "data = load_breast_cancer()\n",
    "\n",
    "X = data.data\n",
    "y = data.target\n",
    "\n",
    "from sklearn import linear_model\n",
    "clf = linear_model.LogisticRegression(solver='liblinear')\n",
    "\n",
    "from sklearn.model_selection import ShuffleSplit\n",
    "ss = ShuffleSplit(n_splits=1, \n",
    "                  train_size=0.5, \n",
    "                  test_size=0.5)"
   ]
  },
  {
   "cell_type": "code",
   "execution_count": null,
   "metadata": {
    "ExecuteTime": {
     "end_time": "2017-06-22T08:57:13.110081Z",
     "start_time": "2017-06-22T08:57:13.106877Z"
    }
   },
   "outputs": [],
   "source": [
    "train_index, test_index = next(ss.split(X, y))"
   ]
  },
  {
   "cell_type": "code",
   "execution_count": null,
   "metadata": {
    "ExecuteTime": {
     "end_time": "2017-06-22T08:57:13.160166Z",
     "start_time": "2017-06-22T08:57:13.111829Z"
    },
    "scrolled": true
   },
   "outputs": [],
   "source": [
    "clf.fit(X[train_index], y[train_index]);"
   ]
  },
  {
   "cell_type": "code",
   "execution_count": null,
   "metadata": {
    "ExecuteTime": {
     "end_time": "2017-06-22T08:57:13.177010Z",
     "start_time": "2017-06-22T08:57:13.161762Z"
    }
   },
   "outputs": [],
   "source": [
    "clf.score(X[test_index], y[test_index])"
   ]
  },
  {
   "cell_type": "code",
   "execution_count": null,
   "metadata": {
    "ExecuteTime": {
     "end_time": "2017-06-22T08:57:13.181766Z",
     "start_time": "2017-06-22T08:57:13.178604Z"
    }
   },
   "outputs": [],
   "source": [
    "# from sklearn.datasets import fetch_mldata\n",
    "from sklearn.datasets import fetch_openml"
   ]
  },
  {
   "cell_type": "code",
   "execution_count": null,
   "metadata": {
    "ExecuteTime": {
     "end_time": "2017-06-22T08:57:13.282166Z",
     "start_time": "2017-06-22T08:57:13.183635Z"
    }
   },
   "outputs": [],
   "source": [
    "# mnist = fetch_mldata('MNIST original')\n",
    "mnist = fetch_openml('mnist_784', version=1)"
   ]
  },
  {
   "cell_type": "code",
   "execution_count": null,
   "metadata": {
    "ExecuteTime": {
     "end_time": "2017-06-22T08:57:13.288344Z",
     "start_time": "2017-06-22T08:57:13.283987Z"
    }
   },
   "outputs": [],
   "source": [
    "# mnist.COL_NAMES\n",
    "mnist.feature_names"
   ]
  },
  {
   "cell_type": "code",
   "execution_count": null,
   "metadata": {
    "ExecuteTime": {
     "end_time": "2017-06-22T08:57:13.293910Z",
     "start_time": "2017-06-22T08:57:13.289971Z"
    }
   },
   "outputs": [],
   "source": [
    "mnist.DESCR"
   ]
  },
  {
   "cell_type": "code",
   "execution_count": null,
   "metadata": {
    "ExecuteTime": {
     "end_time": "2017-06-22T08:57:13.299989Z",
     "start_time": "2017-06-22T08:57:13.295594Z"
    }
   },
   "outputs": [],
   "source": [
    "mnist.data.shape"
   ]
  },
  {
   "cell_type": "code",
   "execution_count": null,
   "metadata": {
    "ExecuteTime": {
     "end_time": "2017-06-22T08:57:13.307337Z",
     "start_time": "2017-06-22T08:57:13.301647Z"
    }
   },
   "outputs": [],
   "source": [
    "mnist.target"
   ]
  },
  {
   "cell_type": "code",
   "execution_count": null,
   "metadata": {
    "ExecuteTime": {
     "end_time": "2017-06-22T08:57:13.314397Z",
     "start_time": "2017-06-22T08:57:13.308995Z"
    }
   },
   "outputs": [],
   "source": [
    "# MNISTの場合，60000が学習，10000がテスト，と決まっている\n",
    "# http://yann.lecun.com/exdb/mnist/\n",
    "\n",
    "X_train = mnist.data[:60000]\n",
    "X_test  = mnist.data[60000:70000]\n",
    "\n",
    "y_train = mnist.target[:60000]\n",
    "y_test  = mnist.target[60000:70000]"
   ]
  },
  {
   "cell_type": "code",
   "execution_count": null,
   "metadata": {
    "ExecuteTime": {
     "end_time": "2017-06-22T08:57:13.320637Z",
     "start_time": "2017-06-22T08:57:13.316092Z"
    }
   },
   "outputs": [],
   "source": [
    "clf"
   ]
  },
  {
   "cell_type": "code",
   "execution_count": null,
   "metadata": {
    "ExecuteTime": {
     "end_time": "2017-06-22T08:57:13.324764Z",
     "start_time": "2017-06-22T08:57:13.322232Z"
    }
   },
   "outputs": [],
   "source": [
    "# clf.fit(X_train, y_train) # たぶん1時間たっても終わらない"
   ]
  },
  {
   "cell_type": "code",
   "execution_count": null,
   "metadata": {},
   "outputs": [],
   "source": []
  }
 ],
 "metadata": {
  "anaconda-cloud": {},
  "kernelspec": {
   "display_name": "Python 3",
   "language": "python",
   "name": "python3"
  },
  "language_info": {
   "codemirror_mode": {
    "name": "ipython",
    "version": 3
   },
   "file_extension": ".py",
   "mimetype": "text/x-python",
   "name": "python",
   "nbconvert_exporter": "python",
   "pygments_lexer": "ipython3",
   "version": "3.7.7"
  },
  "toc": {
   "colors": {
    "hover_highlight": "#DAA520",
    "running_highlight": "#FF0000",
    "selected_highlight": "#FFD700"
   },
   "moveMenuLeft": true,
   "nav_menu": {
    "height": "12px",
    "width": "252px"
   },
   "navigate_menu": true,
   "number_sections": true,
   "sideBar": true,
   "threshold": 4,
   "toc_cell": false,
   "toc_section_display": "block",
   "toc_window_display": false,
   "widenNotebook": false
  }
 },
 "nbformat": 4,
 "nbformat_minor": 1
}
